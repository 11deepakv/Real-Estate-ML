{
 "cells": [
  {
   "cell_type": "code",
   "execution_count": 5,
   "id": "d69ea625",
   "metadata": {},
   "outputs": [],
   "source": [
    "from joblib import dump, load\n",
    "import numpy as np"
   ]
  },
  {
   "cell_type": "code",
   "execution_count": 6,
   "id": "6459c9bb",
   "metadata": {},
   "outputs": [],
   "source": [
    "model = load('Real_Estate')"
   ]
  },
  {
   "cell_type": "markdown",
   "id": "a248a059",
   "metadata": {},
   "source": [
    "Change the input array to predict your values"
   ]
  },
  {
   "cell_type": "code",
   "execution_count": 11,
   "id": "94b032ec",
   "metadata": {},
   "outputs": [
    {
     "name": "stdout",
     "output_type": "stream",
     "text": [
      "The Predicted Value is [30.806]\n"
     ]
    }
   ],
   "source": [
    "input = np.array([[-0.43942006,  3.12628155, -1.12165014, -0.27288841, -1.42262747,\n",
    "       0.90428782, -1.29805897,  2.61378081, -1.00030222, -0.97491834,\n",
    "        0.41164221, -0.86091034]])\n",
    "\n",
    "print(\"The Predicted Value is\", model.predict(input))"
   ]
  },
  {
   "cell_type": "code",
   "execution_count": null,
   "id": "f9c062da",
   "metadata": {},
   "outputs": [],
   "source": []
  }
 ],
 "metadata": {
  "kernelspec": {
   "display_name": "Python 3",
   "language": "python",
   "name": "python3"
  },
  "language_info": {
   "codemirror_mode": {
    "name": "ipython",
    "version": 3
   },
   "file_extension": ".py",
   "mimetype": "text/x-python",
   "name": "python",
   "nbconvert_exporter": "python",
   "pygments_lexer": "ipython3",
   "version": "3.9.4"
  }
 },
 "nbformat": 4,
 "nbformat_minor": 5
}
